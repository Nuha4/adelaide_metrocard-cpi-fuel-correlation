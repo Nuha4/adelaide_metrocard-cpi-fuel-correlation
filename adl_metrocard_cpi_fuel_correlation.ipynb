{
  "cells": [
    {
      "cell_type": "markdown",
      "metadata": {
        "id": "view-in-github",
        "colab_type": "text"
      },
      "source": [
        "<a href=\"https://colab.research.google.com/github/Nuha4/adelaide_metrocard-cpi-fuel-correlation/blob/main/adl_metrocard_cpi_fuel_correlation.ipynb\" target=\"_parent\"><img src=\"https://colab.research.google.com/assets/colab-badge.svg\" alt=\"Open In Colab\"/></a>"
      ]
    },
    {
      "cell_type": "code",
      "execution_count": 2,
      "metadata": {
        "id": "reqRbmTLZZ3K"
      },
      "outputs": [],
      "source": [
        "import pandas as pd\n",
        "import matplotlib.pyplot as plt\n",
        "import seaborn as sns\n",
        "from scipy.stats import pearsonr, spearmanr\n",
        "import numpy as np\n",
        "import glob\n",
        "import os"
      ]
    },
    {
      "cell_type": "code",
      "execution_count": null,
      "metadata": {
        "id": "c-xD4sePaAkw",
        "outputId": "6fb89b7d-660f-43e2-a748-b1e936db25f4"
      },
      "outputs": [
        {
          "name": "stdout",
          "output_type": "stream",
          "text": [
            "         VALIDATION_DATE  NUM_MODE_TRANSPORT ROUTE_CODE  ROUTE_DIRECTION  \\\n",
            "0             22/05/2023                   0          0                0   \n",
            "1             19/06/2023                   0          0                0   \n",
            "2              2/04/2023                   1     OD1MTB                0   \n",
            "3              4/05/2023                   1     OD1MTB                0   \n",
            "4             13/05/2023                   1     OD1MTB                0   \n",
            "...                  ...                 ...        ...              ...   \n",
            "59247577      11/04/2024                   1         J1                1   \n",
            "59247578      11/04/2024                   1         J2                1   \n",
            "59247579      11/04/2024                   1        M44                1   \n",
            "59247580      11/04/2024                   1       178M                1   \n",
            "59247581      11/04/2024                   1        252                1   \n",
            "\n",
            "           GTFS_ID  MEDIUM_TYPE BAND_BOARDINGS  BAND_BOARDINGS_FLOOR  \\\n",
            "0         101842.0          1.0            1-9                     1   \n",
            "1         101374.0          1.0            1-9                     1   \n",
            "2              NaN          1.0        130-139                   130   \n",
            "3              NaN          1.0        180-189                   180   \n",
            "4              NaN          1.0        130-139                   130   \n",
            "...            ...          ...            ...                   ...   \n",
            "59247577    3484.0          1.0          50-59                    50   \n",
            "59247578     819.0          1.0          50-59                    50   \n",
            "59247579    4566.0          1.0          50-59                    50   \n",
            "59247580    6450.0          1.0          60-69                    60   \n",
            "59247581    6444.0          1.0          60-69                    60   \n",
            "\n",
            "                                                SOURCE_FILE  \n",
            "0         banded-adelaide-metrocard-validations-2023-q2.csv  \n",
            "1         banded-adelaide-metrocard-validations-2023-q2.csv  \n",
            "2         banded-adelaide-metrocard-validations-2023-q2.csv  \n",
            "3         banded-adelaide-metrocard-validations-2023-q2.csv  \n",
            "4         banded-adelaide-metrocard-validations-2023-q2.csv  \n",
            "...                                                     ...  \n",
            "59247577                 bandedvalidations2024-04-05-06.csv  \n",
            "59247578                 bandedvalidations2024-04-05-06.csv  \n",
            "59247579                 bandedvalidations2024-04-05-06.csv  \n",
            "59247580                 bandedvalidations2024-04-05-06.csv  \n",
            "59247581                 bandedvalidations2024-04-05-06.csv  \n",
            "\n",
            "[59247582 rows x 9 columns]\n",
            "       Month  MetroCard_Usage\n",
            "0 2015-10-01          5242675\n",
            "1 2015-11-01          5127222\n",
            "2 2015-12-01          4052606\n",
            "3 2016-01-01          3721365\n",
            "4 2016-02-01          5220318\n"
          ]
        }
      ],
      "source": [
        "# Load, Merge and Clean MetroCard Usage Data for Adelaide (2015_Q4 to 2024_Q4)\n",
        "folder_path = 'data_metro/'\n",
        "file_pattern = os.path.join(folder_path, \"*anded*.csv\")\n",
        "all_files = glob.glob(file_pattern)\n",
        "\n",
        "# Read and concatenate\n",
        "df_list = []\n",
        "for file in all_files:\n",
        "    df = pd.read_csv(file)\n",
        "    df['SOURCE_FILE'] = os.path.basename(file)  # Optional: track source file\n",
        "    df_list.append(df)\n",
        "combined_metro_df = pd.concat(df_list, ignore_index=True)\n",
        "\n",
        "print(combined_metro_df)\n",
        "\n",
        "# # Check unparseable rows\n",
        "# invalid_dates = combined_metro_df[combined_metro_df['VALIDATION_DATE'].isna()]\n",
        "# print(\"Unparseable rows:\", len(invalid_dates))\n",
        "# print(invalid_dates[['SOURCE_FILE', 'VALIDATION_DATE']].head())\n",
        "\n",
        "\n",
        "# Convert date and prepare monthly data\n",
        "combined_metro_df['VALIDATION_DATE'] = pd.to_datetime(\n",
        "    combined_metro_df['VALIDATION_DATE'],\n",
        "    format='mixed',\n",
        "    dayfirst=True,\n",
        "    errors='coerce'\n",
        ")\n",
        "# combined_metro_df['VALIDATION_DATE'] = pd.to_datetime(combined_metro_df['VALIDATION_DATE'], dayfirst=True)\n",
        "combined_metro_df['BAND_BOARDINGS_FLOOR'] = pd.to_numeric(combined_metro_df['BAND_BOARDINGS_FLOOR'], errors='coerce')\n",
        "combined_metro_df['Month'] = combined_metro_df['VALIDATION_DATE'].dt.to_period('M').dt.to_timestamp()\n",
        "\n",
        "# Aggregate by month\n",
        "monthly_metro = combined_metro_df.groupby('Month')['BAND_BOARDINGS_FLOOR'].sum().reset_index()\n",
        "monthly_metro = monthly_metro.rename(columns={'BAND_BOARDINGS_FLOOR': 'MetroCard_Usage'})\n",
        "\n",
        "# Save for reuse\n",
        "monthly_metro.to_csv(\"combined_metrocard_monthly.csv\", index=False)\n",
        "print(monthly_metro.head())\n"
      ]
    },
    {
      "cell_type": "code",
      "source": [
        "# Drop extra rows after 2024 Q4\n",
        "monthly_metro = pd.read_csv('combined_metrocard_monthly.csv')\n",
        "monthly_metro = monthly_metro[monthly_metro['Month'] <= '2024-12-31']\n",
        "print(monthly_metro.head())\n",
        "print(monthly_metro.tail())\n"
      ],
      "metadata": {
        "id": "HmIwVbCOu-Up",
        "outputId": "2c5dd1a8-17e9-432b-d27e-a504b9019661",
        "colab": {
          "base_uri": "https://localhost:8080/"
        }
      },
      "execution_count": 35,
      "outputs": [
        {
          "output_type": "stream",
          "name": "stdout",
          "text": [
            "        Month  MetroCard_Usage\n",
            "0  2015-10-01          5242675\n",
            "1  2015-11-01          5127222\n",
            "2  2015-12-01          4052606\n",
            "3  2016-01-01          3721365\n",
            "4  2016-02-01          5220318\n",
            "          Month  MetroCard_Usage\n",
            "106  2024-08-01          4347875\n",
            "107  2024-09-01          4032887\n",
            "108  2024-10-01          4046780\n",
            "109  2024-11-01          3901431\n",
            "110  2024-12-01          3056540\n"
          ]
        }
      ]
    },
    {
      "cell_type": "code",
      "source": [
        "summary = monthly_metro['MetroCard_Usage'].describe().astype(int).apply(lambda x: f\"{x:,}\")\n",
        "print(summary)"
      ],
      "metadata": {
        "colab": {
          "base_uri": "https://localhost:8080/"
        },
        "id": "Qx20VD9Gme_e",
        "outputId": "61bafd50-db58-413a-9485-4172a5ccdfc2"
      },
      "execution_count": 37,
      "outputs": [
        {
          "output_type": "stream",
          "name": "stdout",
          "text": [
            "count          111\n",
            "mean     4,173,776\n",
            "std      1,164,770\n",
            "min        965,965\n",
            "25%      3,442,987\n",
            "50%      4,135,112\n",
            "75%      5,035,557\n",
            "max      6,354,670\n",
            "Name: MetroCard_Usage, dtype: object\n"
          ]
        }
      ]
    },
    {
      "cell_type": "code",
      "execution_count": 38,
      "metadata": {
        "id": "cKDKj2ysmZ5v"
      },
      "outputs": [],
      "source": [
        "# Load and Clean CPI Data (2015 Q4 to 2024 Q4)\n",
        "cpi_preview = pd.read_excel(\"CPI_640103.xlsx\", sheet_name='Data1', header=None)\n",
        "cpi_data = cpi_preview.iloc[10:, [0, 4]].copy()\n",
        "cpi_data.columns = ['Date', 'CPI_Adelaide']\n",
        "\n",
        "# Convert to datetime and numeric\n",
        "cpi_data['Date'] = pd.to_datetime(cpi_data['Date'], errors='coerce')\n",
        "cpi_data['CPI_Adelaide'] = pd.to_numeric(cpi_data['CPI_Adelaide'], errors='coerce')\n",
        "\n",
        "# Drop rows with missing dates and Filter\n",
        "cpi_data = cpi_data[cpi_data['Date'].notna()]\n",
        "cpi_data = cpi_data[(cpi_data['Date'] >= '2015-07-01') & (cpi_data['Date'] <= '2024-12-31')]\n",
        "\n",
        "# Interpolate quarterly data to monthly\n",
        "cpi_monthly = cpi_data.set_index('Date').resample('MS').interpolate(method='linear').reset_index()\n",
        "cpi_monthly['Month'] = cpi_monthly['Date'].dt.to_period('M').dt.to_timestamp()"
      ]
    },
    {
      "cell_type": "code",
      "source": [
        "# Drop extra rows before 2015 Q4\n",
        "cpi_monthly = cpi_monthly[cpi_monthly['Month'] >= '2015-10-01']\n",
        "print(cpi_monthly.head())\n",
        "print(cpi_monthly.tail())\n"
      ],
      "metadata": {
        "colab": {
          "base_uri": "https://localhost:8080/"
        },
        "id": "NMP75QbBoUXl",
        "outputId": "c560696d-888b-465b-83c0-f9b44acfdf1f"
      },
      "execution_count": 52,
      "outputs": [
        {
          "output_type": "stream",
          "name": "stdout",
          "text": [
            "        Date  CPI_Adelaide      Month\n",
            "1 2015-10-01    115.200000 2015-10-01\n",
            "2 2015-11-01    115.300000 2015-11-01\n",
            "3 2015-12-01    115.400000 2015-12-01\n",
            "4 2016-01-01    115.566667 2016-01-01\n",
            "5 2016-02-01    115.733333 2016-02-01\n",
            "          Date  CPI_Adelaide      Month\n",
            "107 2024-08-01    152.833333 2024-08-01\n",
            "108 2024-09-01    153.400000 2024-09-01\n",
            "109 2024-10-01    152.600000 2024-10-01\n",
            "110 2024-11-01    151.800000 2024-11-01\n",
            "111 2024-12-01    151.000000 2024-12-01\n"
          ]
        }
      ]
    },
    {
      "cell_type": "code",
      "source": [
        "# Load and filter SA fuel consumption data  (2015_Q4 to 2024_Q4)\n",
        "fuel_df = pd.read_excel(\"australian-petroleum-statistics-data-extract-december-2024.xlsx\",\n",
        "                        sheet_name='Sales by state and territory')\n",
        "\n",
        "fuel_df = fuel_df[(fuel_df['Month'] >= '2015-10-01') & (fuel_df['Month'] <= '2024-12-31')]\n",
        "fuel_df = fuel_df[fuel_df['State'] == 'SA'].copy()\n",
        "\n",
        "# Clean and format columns\n",
        "fuel_df['Month'] = pd.to_datetime(fuel_df['Month'], errors='coerce')\n",
        "fuel_df['Automotive gasoline: total (ML)'] = fuel_df['Automotive gasoline: total (ML)'].replace('n.p.', np.nan)\n",
        "fuel_df['Automotive gasoline: total (ML)'] = pd.to_numeric(fuel_df['Automotive gasoline: total (ML)'], errors='coerce')\n",
        "\n",
        "# Finalize structure\n",
        "fuel_df = fuel_df[['Month', 'Automotive gasoline: total (ML)']]\n",
        "fuel_df = fuel_df.rename(columns={'Automotive gasoline: total (ML)': 'Fuel_Consumption_ML'})\n",
        "\n",
        "print(fuel_df.head())\n",
        "print(fuel_df.tail())\n",
        "\n"
      ],
      "metadata": {
        "colab": {
          "base_uri": "https://localhost:8080/"
        },
        "id": "1gOUNSobo-Lf",
        "outputId": "6cbe4d47-2f17-4d59-b9b0-59e1760093c1"
      },
      "execution_count": 53,
      "outputs": [
        {
          "output_type": "stream",
          "name": "stdout",
          "text": [
            "         Month  Fuel_Consumption_ML\n",
            "585 2015-10-01                106.2\n",
            "586 2015-11-01                102.8\n",
            "587 2015-12-01                115.1\n",
            "588 2016-01-01                101.0\n",
            "589 2016-02-01                104.8\n",
            "         Month  Fuel_Consumption_ML\n",
            "691 2024-08-01                 89.2\n",
            "692 2024-09-01                 84.8\n",
            "693 2024-10-01                 86.7\n",
            "694 2024-11-01                 88.9\n",
            "695 2024-12-01                 85.9\n"
          ]
        }
      ]
    },
    {
      "cell_type": "code",
      "source": [
        "cpi_monthly['Month'] = pd.to_datetime(cpi_monthly['Month'])\n",
        "fuel_df['Month'] = pd.to_datetime(fuel_df['Month'])\n",
        "monthly_metro['Month'] = pd.to_datetime(monthly_metro['Month'])\n",
        "\n",
        "# Merge All Datasets\n",
        "combined_df = pd.merge(cpi_monthly[['Month', 'CPI_Adelaide']], fuel_df, on='Month', how='outer')\n",
        "combined_df = pd.merge(combined_df, monthly_metro, on='Month', how='outer')\n",
        "combined_df = combined_df.sort_values('Month').reset_index(drop=True)\n",
        "\n",
        "# Save for resue\n",
        "combined_df.to_csv(\"metrocard_cpi_fuel_combined.csv\", index=False)\n",
        "print(combined_df.head())\n",
        "print(combined_df.tail())"
      ],
      "metadata": {
        "id": "OZ7W9jExvunv",
        "outputId": "11985d2a-aa42-483c-a78a-3231ee911fdc",
        "colab": {
          "base_uri": "https://localhost:8080/"
        }
      },
      "execution_count": 62,
      "outputs": [
        {
          "output_type": "stream",
          "name": "stdout",
          "text": [
            "       Month  CPI_Adelaide  Fuel_Consumption_ML  MetroCard_Usage\n",
            "0 2015-10-01    115.200000                106.2          5242675\n",
            "1 2015-11-01    115.300000                102.8          5127222\n",
            "2 2015-12-01    115.400000                115.1          4052606\n",
            "3 2016-01-01    115.566667                101.0          3721365\n",
            "4 2016-02-01    115.733333                104.8          5220318\n",
            "         Month  CPI_Adelaide  Fuel_Consumption_ML  MetroCard_Usage\n",
            "106 2024-08-01    152.833333                 89.2          4347875\n",
            "107 2024-09-01    153.400000                 84.8          4032887\n",
            "108 2024-10-01    152.600000                 86.7          4046780\n",
            "109 2024-11-01    151.800000                 88.9          3901431\n",
            "110 2024-12-01    151.000000                 85.9          3056540\n"
          ]
        }
      ]
    },
    {
      "cell_type": "code",
      "source": [
        "# Data Quality Check\n",
        "print(combined_df.dtypes)\n",
        "print(combined_df.isna().sum())\n",
        "missing_rows = combined_df[combined_df.isna().any(axis=1)]\n",
        "print(missing_rows)\n",
        "print(combined_df.duplicated().sum())\n",
        "print(combined_df['Month'].min(), combined_df['Month'].max())\n",
        "print(combined_df.describe())"
      ],
      "metadata": {
        "id": "isBNI1cbwzls",
        "outputId": "ec79e773-4189-4828-fe66-4d3615cb7bde",
        "colab": {
          "base_uri": "https://localhost:8080/"
        }
      },
      "execution_count": 63,
      "outputs": [
        {
          "output_type": "stream",
          "name": "stdout",
          "text": [
            "Month                  datetime64[ns]\n",
            "CPI_Adelaide                  float64\n",
            "Fuel_Consumption_ML           float64\n",
            "MetroCard_Usage                 int64\n",
            "dtype: object\n",
            "Month                  0\n",
            "CPI_Adelaide           0\n",
            "Fuel_Consumption_ML    0\n",
            "MetroCard_Usage        0\n",
            "dtype: int64\n",
            "Empty DataFrame\n",
            "Columns: [Month, CPI_Adelaide, Fuel_Consumption_ML, MetroCard_Usage]\n",
            "Index: []\n",
            "0\n",
            "2015-10-01 00:00:00 2024-12-01 00:00:00\n",
            "                               Month  CPI_Adelaide  Fuel_Consumption_ML  \\\n",
            "count                            111    111.000000           111.000000   \n",
            "mean   2020-05-01 10:48:38.918918912    129.733333            94.717117   \n",
            "min              2015-10-01 00:00:00    115.200000            60.800000   \n",
            "25%              2018-01-16 12:00:00    123.716667            87.550000   \n",
            "50%              2020-05-01 00:00:00    125.933333            94.600000   \n",
            "75%              2022-08-16 12:00:00    137.366667           102.050000   \n",
            "max              2024-12-01 00:00:00    153.400000           115.100000   \n",
            "std                              NaN     11.214653             9.296147   \n",
            "\n",
            "       MetroCard_Usage  \n",
            "count     1.110000e+02  \n",
            "mean      4.173777e+06  \n",
            "min       9.659650e+05  \n",
            "25%       3.442988e+06  \n",
            "50%       4.135112e+06  \n",
            "75%       5.035558e+06  \n",
            "max       6.354670e+06  \n",
            "std       1.164770e+06  \n"
          ]
        }
      ]
    }
  ],
  "metadata": {
    "colab": {
      "provenance": [],
      "include_colab_link": true
    },
    "kernelspec": {
      "display_name": "Python 3",
      "name": "python3"
    },
    "language_info": {
      "codemirror_mode": {
        "name": "ipython",
        "version": 3
      },
      "file_extension": ".py",
      "mimetype": "text/x-python",
      "name": "python",
      "nbconvert_exporter": "python",
      "pygments_lexer": "ipython3",
      "version": "3.10.11"
    }
  },
  "nbformat": 4,
  "nbformat_minor": 0
}
{
  "cells": [
    {
      "cell_type": "markdown",
      "metadata": {
        "colab_type": "text",
        "id": "view-in-github"
      },
      "source": [
        "<a href=\"https://colab.research.google.com/github/Nuha4/adelaide_metrocard-cpi-fuel-correlation/blob/main/adl_metrocard_cpi_fuel_correlation.ipynb\" target=\"_parent\"><img src=\"https://colab.research.google.com/assets/colab-badge.svg\" alt=\"Open In Colab\"/></a>"
      ]
    },
    {
      "cell_type": "code",
      "execution_count": 1,
      "metadata": {
        "id": "reqRbmTLZZ3K"
      },
      "outputs": [],
      "source": [
        "import pandas as pd\n",
        "import matplotlib.pyplot as plt\n",
        "import seaborn as sns\n",
        "from scipy.stats import pearsonr, spearmanr\n",
        "import numpy as np\n",
        "import glob\n",
        "import os"
      ]
    },
    {
      "cell_type": "code",
      "execution_count": 6,
      "metadata": {
        "id": "c-xD4sePaAkw"
      },
      "outputs": [
        {
          "name": "stdout",
          "output_type": "stream",
          "text": [
            "         VALIDATION_DATE  NUM_MODE_TRANSPORT ROUTE_CODE  ROUTE_DIRECTION  \\\n",
            "0             22/05/2023                   0          0                0   \n",
            "1             19/06/2023                   0          0                0   \n",
            "2              2/04/2023                   1     OD1MTB                0   \n",
            "3              4/05/2023                   1     OD1MTB                0   \n",
            "4             13/05/2023                   1     OD1MTB                0   \n",
            "...                  ...                 ...        ...              ...   \n",
            "59247577      11/04/2024                   1         J1                1   \n",
            "59247578      11/04/2024                   1         J2                1   \n",
            "59247579      11/04/2024                   1        M44                1   \n",
            "59247580      11/04/2024                   1       178M                1   \n",
            "59247581      11/04/2024                   1        252                1   \n",
            "\n",
            "           GTFS_ID  MEDIUM_TYPE BAND_BOARDINGS  BAND_BOARDINGS_FLOOR  \\\n",
            "0         101842.0          1.0            1-9                     1   \n",
            "1         101374.0          1.0            1-9                     1   \n",
            "2              NaN          1.0        130-139                   130   \n",
            "3              NaN          1.0        180-189                   180   \n",
            "4              NaN          1.0        130-139                   130   \n",
            "...            ...          ...            ...                   ...   \n",
            "59247577    3484.0          1.0          50-59                    50   \n",
            "59247578     819.0          1.0          50-59                    50   \n",
            "59247579    4566.0          1.0          50-59                    50   \n",
            "59247580    6450.0          1.0          60-69                    60   \n",
            "59247581    6444.0          1.0          60-69                    60   \n",
            "\n",
            "                                                SOURCE_FILE  \n",
            "0         banded-adelaide-metrocard-validations-2023-q2.csv  \n",
            "1         banded-adelaide-metrocard-validations-2023-q2.csv  \n",
            "2         banded-adelaide-metrocard-validations-2023-q2.csv  \n",
            "3         banded-adelaide-metrocard-validations-2023-q2.csv  \n",
            "4         banded-adelaide-metrocard-validations-2023-q2.csv  \n",
            "...                                                     ...  \n",
            "59247577                 bandedvalidations2024-04-05-06.csv  \n",
            "59247578                 bandedvalidations2024-04-05-06.csv  \n",
            "59247579                 bandedvalidations2024-04-05-06.csv  \n",
            "59247580                 bandedvalidations2024-04-05-06.csv  \n",
            "59247581                 bandedvalidations2024-04-05-06.csv  \n",
            "\n",
            "[59247582 rows x 9 columns]\n",
            "       Month  MetroCard_Usage\n",
            "0 2015-10-01          5242675\n",
            "1 2015-11-01          5127222\n",
            "2 2015-12-01          4052606\n",
            "3 2016-01-01          3721365\n",
            "4 2016-02-01          5220318\n"
          ]
        }
      ],
      "source": [
        "# Load, Merge and Clean MetroCard Usage Data for Adelaide (2015_Q4 to 2025_Q2)\n",
        "folder_path = 'data_metro/'\n",
        "file_pattern = os.path.join(folder_path, \"*anded*.csv\")\n",
        "all_files = glob.glob(file_pattern)\n",
        "\n",
        "# Read and concatenate\n",
        "df_list = []\n",
        "for file in all_files:\n",
        "    df = pd.read_csv(file)\n",
        "    df['SOURCE_FILE'] = os.path.basename(file)  # Optional: track source file\n",
        "    df_list.append(df)\n",
        "combined_metro_df = pd.concat(df_list, ignore_index=True)\n",
        "\n",
        "print(combined_metro_df)\n",
        "\n",
        "# # Check unparseable rows\n",
        "# invalid_dates = combined_metro_df[combined_metro_df['VALIDATION_DATE'].isna()]\n",
        "# print(\"Unparseable rows:\", len(invalid_dates))\n",
        "# print(invalid_dates[['SOURCE_FILE', 'VALIDATION_DATE']].head())\n",
        "\n",
        "\n",
        "# Convert date and prepare monthly data\n",
        "combined_metro_df['VALIDATION_DATE'] = pd.to_datetime(\n",
        "    combined_metro_df['VALIDATION_DATE'], \n",
        "    format='mixed', \n",
        "    dayfirst=True, \n",
        "    errors='coerce'\n",
        ")\n",
        "# combined_metro_df['VALIDATION_DATE'] = pd.to_datetime(combined_metro_df['VALIDATION_DATE'], dayfirst=True)\n",
        "combined_metro_df['BAND_BOARDINGS_FLOOR'] = pd.to_numeric(combined_metro_df['BAND_BOARDINGS_FLOOR'], errors='coerce')\n",
        "combined_metro_df['Month'] = combined_metro_df['VALIDATION_DATE'].dt.to_period('M').dt.to_timestamp()\n",
        "\n",
        "# Aggregate by month\n",
        "monthly_metro = combined_metro_df.groupby('Month')['BAND_BOARDINGS_FLOOR'].sum().reset_index()\n",
        "monthly_metro = monthly_metro.rename(columns={'BAND_BOARDINGS_FLOOR': 'MetroCard_Usage'})\n",
        "\n",
        "# Save for reuse\n",
        "monthly_metro.to_csv(\"combined_metrocard_monthly.csv\", index=False)\n",
        "print(monthly_metro.head())\n"
      ]
    },
    {
      "cell_type": "code",
      "execution_count": null,
      "metadata": {},
      "outputs": [],
      "source": []
    }
  ],
  "metadata": {
    "colab": {
      "authorship_tag": "ABX9TyN70qikucjkFKa2b4YezcJ7",
      "include_colab_link": true,
      "provenance": []
    },
    "kernelspec": {
      "display_name": "Python 3",
      "name": "python3"
    },
    "language_info": {
      "codemirror_mode": {
        "name": "ipython",
        "version": 3
      },
      "file_extension": ".py",
      "mimetype": "text/x-python",
      "name": "python",
      "nbconvert_exporter": "python",
      "pygments_lexer": "ipython3",
      "version": "3.10.11"
    }
  },
  "nbformat": 4,
  "nbformat_minor": 0
}

{
  "nbformat": 4,
  "nbformat_minor": 0,
  "metadata": {
    "colab": {
      "provenance": [],
      "authorship_tag": "ABX9TyN70qikucjkFKa2b4YezcJ7",
      "include_colab_link": true
    },
    "kernelspec": {
      "name": "python3",
      "display_name": "Python 3"
    },
    "language_info": {
      "name": "python"
    }
  },
  "cells": [
    {
      "cell_type": "markdown",
      "metadata": {
        "id": "view-in-github",
        "colab_type": "text"
      },
      "source": [
        "<a href=\"https://colab.research.google.com/github/Nuha4/adelaide_metrocard-cpi-fuel-correlation/blob/main/adl_metrocard_cpi_fuel_correlation.ipynb\" target=\"_parent\"><img src=\"https://colab.research.google.com/assets/colab-badge.svg\" alt=\"Open In Colab\"/></a>"
      ]
    },
    {
      "cell_type": "code",
      "execution_count": 2,
      "metadata": {
        "id": "reqRbmTLZZ3K"
      },
      "outputs": [],
      "source": [
        "import pandas as pd\n",
        "import matplotlib.pyplot as plt\n",
        "import seaborn as sns\n",
        "from scipy.stats import pearsonr, spearmanr\n",
        "import numpy as np\n",
        "import glob\n",
        "import os"
      ]
    },
    {
      "cell_type": "code",
      "source": [
        "# Load, Merge and Clean MetroCard Usage Data for Adelaide (2015_Q4 to 2025_Q2)\n",
        "folder_path = '.'\n",
        "file_pattern = os.path.join(folder_path, \"*anded*.csv\")\n",
        "all_files = glob.glob(file_pattern)\n",
        "\n",
        "# Read and concatenate\n",
        "df_list = []\n",
        "for file in all_files:\n",
        "    df = pd.read_csv(file)\n",
        "    df['SOURCE_FILE'] = os.path.basename(file)  # Optional: track source file\n",
        "    df_list.append(df)\n",
        "combined_metro_df = pd.concat(df_list, ignore_index=True)\n",
        "\n",
        "# Convert date and prepare monthly data\n",
        "combined_metro_df['VALIDATION_DATE'] = pd.to_datetime(combined_metro_df['VALIDATION_DATE'], dayfirst=True)\n",
        "combined_metro_df['BAND_BOARDINGS_FLOOR'] = pd.to_numeric(combined_metro_df['BAND_BOARDINGS_FLOOR'], errors='coerce')\n",
        "combined_metro_df['Month'] = combined_metro_df['VALIDATION_DATE'].dt.to_period('M').dt.to_timestamp()\n",
        "\n",
        "# Aggregate by month\n",
        "monthly_metro = combined_metro_df.groupby('Month')['BAND_BOARDINGS_FLOOR'].sum().reset_index()\n",
        "monthly_metro = monthly_metro.rename(columns={'BAND_BOARDINGS_FLOOR': 'MetroCard_Usage'})\n",
        "\n",
        "# Save for reuse\n",
        "monthly_metro.to_csv(\"combined_metrocard_monthly.csv\", index=False)\n",
        "print(monthly_metro.head())\n"
      ],
      "metadata": {
        "id": "c-xD4sePaAkw"
      },
      "execution_count": null,
      "outputs": []
    }
  ]
}